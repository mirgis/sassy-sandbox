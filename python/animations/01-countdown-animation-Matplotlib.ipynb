{
 "cells": [
  {
   "cell_type": "markdown",
   "metadata": {},
   "source": [
    "# Simple countdown animation in Python\n",
    "\n",
    "Let's create a simple countdown animation in Python [1][2]. To achieve this, we'll generate a sequence of consecutive frames. The countdown will last 3 seconds, displaying the sequence 3-2-1-0. Each number will grow in size as it appears and shrink before transitioning to the next number.\n",
    "\n",
    "First, we'll define the dimensions of a single static blank frame and visualize the result."
   ]
  },
  {
   "cell_type": "code",
   "execution_count": 1,
   "metadata": {},
   "outputs": [],
   "source": [
    "import matplotlib.animation as animation\n",
    "import matplotlib.pyplot as plt\n",
    "import numpy as np"
   ]
  },
  {
   "cell_type": "code",
   "execution_count": 2,
   "metadata": {},
   "outputs": [],
   "source": [
    "# define the dimensions of the animation frame\n",
    "WIDTH = 300   # frame width in pixels\n",
    "HEIGHT = 300  # frame height in pixels\n",
    "\n",
    "# define display and animation properties\n",
    "DPI = 100     # resolution - pixels per inch\n",
    "FPS = 60      # frames per second, for smooth animation\n",
    "\n",
    "# define countdown properties\n",
    "DURATION = 3   # countdown duration in seconds (3-2-1-0)\n",
    "MAX_FONT_SIZE = 150  # maximum font size for the numbers"
   ]
  },
  {
   "cell_type": "code",
   "execution_count": 3,
   "metadata": {},
   "outputs": [
    {
     "data": {
      "image/png": "[encoded data removed]",
      "text/plain": [
       "<Figure size 300x300 with 1 Axes>"
      ]
     },
     "metadata": {},
     "output_type": "display_data"
    }
   ],
   "source": [
    "# create a figure and axis for the plot\n",
    "fig, ax = plt.subplots(figsize=(WIDTH/DPI, HEIGHT/DPI), dpi=DPI)\n",
    "\n",
    "# add an empty plot (placeholder)\n",
    "ax.plot()\n",
    "\n",
    "# set the frame dimensions and background color\n",
    "ax.set_xlim(0, WIDTH)   # set the x-axis range to match the frame width\n",
    "ax.set_ylim(0, HEIGHT)  # set the y-axis range to match the frame height\n",
    "ax.set_facecolor(\"darkolivegreen\")  # set the background color of the frame [3]\n",
    "\n",
    "# hide the axes (no ticks or labels) [4]\n",
    "ax.get_xaxis().set_visible(False)  # hide the x-axis\n",
    "ax.get_yaxis().set_visible(False)  # hide the y-axis\n",
    "\n",
    "# hide plot borders (remove the frame surrounding the plot) [5]\n",
    "ax.spines['top'].set_visible(False)\n",
    "ax.spines['right'].set_visible(False)\n",
    "ax.spines['bottom'].set_visible(False)\n",
    "ax.spines['left'].set_visible(False)\n",
    "\n",
    "# remove figure margins to ensure the plot fills the frame completely [6]\n",
    "plt.subplots_adjust(left=0, right=1, top=1, bottom=0, wspace=0, hspace=0)\n",
    "\n",
    "# display the empty frame\n",
    "plt.show()"
   ]
  },
  {
   "cell_type": "markdown",
   "metadata": {},
   "source": [
    "We now have a single frame displayed. Note: Ignore the white margins — if you save the frame to disk, they won’t appear.\n",
    "\n",
    "The next step is to draw the countdown number in the center of the frame. The origin point (0,0) is located in the bottom-left corner."
   ]
  },
  {
   "cell_type": "code",
   "execution_count": 4,
   "metadata": {},
   "outputs": [
    {
     "data": {
      "image/png": "[encoded data removed]",
      "text/plain": [
       "<Figure size 300x300 with 1 Axes>"
      ]
     },
     "execution_count": 4,
     "metadata": {},
     "output_type": "execute_result"
    }
   ],
   "source": [
    "# add a countdown number in the center of the frame\n",
    "text = ax.text(\n",
    "    0.50 * WIDTH,       # x-coordinate, slightly off-center for balance\n",
    "    0.44 * HEIGHT,      # y-coordinate, slightly off-center for balance\n",
    "    DURATION,           # text content (initial countdown number, e.g., 3)\n",
    "    ha=\"center\",        # horizontal alignment of the text\n",
    "    va=\"center\",        # vertical alignment of the text\n",
    "    fontsize=MAX_FONT_SIZE,  # font size\n",
    "    weight='bold',      # font weight (bold for emphasis)\n",
    "    color=\"darkkhaki\",  # text color [3]\n",
    "    family=\"Nunito\",    # font family for styling [7]\n",
    ")\n",
    "\n",
    "# return the figure object (useful for visualization)\n",
    "fig"
   ]
  },
  {
   "attachments": {
    "image.png": {
     "image/png": "[encoded data removed]"
    }
   },
   "cell_type": "markdown",
   "metadata": {},
   "source": [
    "Ensure the font *Nunito* [7] is available in your environment. If not, you may need to install it or replace it with a default font. The slight offsets (0.50 and 0.44) are good for centering while accounting for font metrics.\n",
    "\n",
    "Next, we need to determine how to change the value (Eq. 1) and size (Eq. 2) of the numbers during the countdown. We will use the absolute value of the cosine function. From the graph below, you can see how the font size will gradually increase and decrease throughout the countdown.\n",
    "\n",
    "$$\n",
    "\\begin{equation}\\tag{1}\n",
    "\\text{number-to-display} = \\left\\lfloor \\text{countdown-time} + \\frac{1}{2} \\right\\rfloor \n",
    "\\end{equation}\n",
    "$$\n",
    "\n",
    "$$\n",
    "\\begin{equation}\\tag{2}\n",
    "\\text{font-size} = \\verb|MAX_FONT_SIZE| \\cdot \\left|\\cos{(\\text{countdown-time} \\cdot \\pi)}\\right|\n",
    "\\end{equation}\n",
    "$$\n",
    "\n",
    "![image.png](attachment:image.png)\n",
    "\n",
    "Finally, we’ll move on to creating the animation itself."
   ]
  },
  {
   "cell_type": "code",
   "execution_count": 5,
   "metadata": {},
   "outputs": [],
   "source": [
    "# create a new figure and axis for the animation\n",
    "fig, ax = plt.subplots(figsize=(WIDTH/DPI, HEIGHT/DPI), dpi=DPI)\n",
    "\n",
    "# create the text object that will display the countdown number\n",
    "text = ax.text(\n",
    "    0.50 * WIDTH,            # x-coordinate, slightly off-center for balance\n",
    "    0.44 * HEIGHT,           # y-coordinate, slightly off-center for balance\n",
    "    DURATION,                # initial countdown number (e.g. 3)\n",
    "    ha=\"center\",             # horizontal alignment of text\n",
    "    va=\"center\",             # vertical alignment of text\n",
    "    fontsize=MAX_FONT_SIZE,  # starting font size\n",
    "    weight='bold',           # bold font weight\n",
    "    color=\"darkkhaki\",       # text color [3]\n",
    "    family=\"Nunito\",         # font family for styling [7]\n",
    ")\n",
    "\n",
    "# initialization function to set up the static background and other properties\n",
    "def init():\n",
    "    # set frame dimensions and background color\n",
    "    ax.set_xlim(0, WIDTH)   # set the width of the frame\n",
    "    ax.set_ylim(0, HEIGHT)  # set the height of the frame\n",
    "    ax.set_facecolor(\"darkolivegreen\")  # background color [3]\n",
    "\n",
    "    # hide the axes (no ticks or labels) [4]\n",
    "    ax.get_xaxis().set_visible(False)\n",
    "    ax.get_yaxis().set_visible(False)\n",
    "\n",
    "    # hide plot borders (remove the frame surrounding the plot) [5]\n",
    "    ax.spines['top'].set_visible(False)\n",
    "    ax.spines['right'].set_visible(False)\n",
    "    ax.spines['bottom'].set_visible(False)\n",
    "    ax.spines['left'].set_visible(False)\n",
    "\n",
    "    # remove margins from the figure to ensure the plot fills the screen [6]\n",
    "    plt.subplots_adjust(left=0, right=1, top=1, bottom=0, wspace=0, hspace=0)\n",
    "    return text,\n",
    "\n",
    "# animate function to update the countdown number and font size\n",
    "def animate(t):\n",
    "    text.set_text(int(t + 0.5))  # set the new number to display, Eq. (2)\n",
    "    text.set_fontsize(MAX_FONT_SIZE * np.abs(np.cos(t * np.pi)))  # set the new font size, Eq. (1)\n",
    "    return text,\n",
    "\n",
    "# set up the animation with FuncAnimation\n",
    "ani = animation.FuncAnimation(\n",
    "    fig=fig,              # figure to animate\n",
    "    func=animate,         # animation function\n",
    "    init_func=init,       # initialization function\n",
    "    frames=np.linspace(DURATION, 0, DURATION * FPS),  # number of frames is based on duration and FPS\n",
    "    interval=1000 / FPS,  # delay between frames (1000/60 = 16.67 milliseconds)\n",
    "    blit=True,            # only update the parts of the figure that have changed (for efficiency)\n",
    ")\n",
    "\n",
    "# save the animation as a video file (MP4) and a GIF [8]\n",
    "ani.save(\"assets/01-countdown-animation-Matplotlib.mp4\", writer=animation.FFMpegWriter(fps=FPS, bitrate=5000))\n",
    "ani.save(\"assets/01-countdown-animation-Matplotlib.gif\", writer=animation.FFMpegWriter(fps=50, bitrate=5000))\n",
    "\n",
    "# close the figure to prevent it from displaying in the notebook\n",
    "plt.close(fig)"
   ]
  },
  {
   "cell_type": "markdown",
   "metadata": {},
   "source": [
    "And this is the final animation.\n",
    "\n",
    "![](assets/01-countdown-animation-Matplotlib.gif)"
   ]
  },
  {
   "cell_type": "markdown",
   "metadata": {},
   "source": [
    "## References\n",
    "1. [Animations using Matplotlib](https://matplotlib.org/stable/users/explain/animations/animations.html) - official Matplotlib documentation\n",
    "2. [`matplotlib.animation` API Reference](https://matplotlib.org/stable/api/animation_api.html) - Matplotlib API reference for animations\n",
    "3. [List of Named Colors](https://matplotlib.org/stable/gallery/color/named_colors.html) - a comprehensive list of named colors in Matplotlib\n",
    "4. [Hiding Axis Text in Matplotlib Plots](https://stackoverflow.com/questions/2176424/hiding-axis-text-in-matplotlib-plots)\n",
    "5. [How to Remove Frame from a Figure](https://stackoverflow.com/questions/14908576/how-to-remove-frame-from-a-figure)\n",
    "6. [Adjust Figure Margin](https://stackoverflow.com/questions/18619880/adjust-figure-margin)\n",
    "7. [Nunito Google Font](https://fonts.google.com/specimen/Nunito) - free Nunito font on Google Fonts\n",
    "8. [Matplotlib Animation Movie: Quality of Movie Decreasing with Time](https://stackoverflow.com/questions/25203311/matplotlib-animation-movie-quality-of-movie-decreasing-with-time)\n",
    "9. [ChatGPT-4o](https://chat.openai.com/chat) - assistance with proofreading the text and code"
   ]
  }
 ],
 "metadata": {
  "kernelspec": {
   "display_name": "torch",
   "language": "python",
   "name": "python3"
  },
  "language_info": {
   "codemirror_mode": {
    "name": "ipython",
    "version": 3
   },
   "file_extension": ".py",
   "mimetype": "text/x-python",
   "name": "python",
   "nbconvert_exporter": "python",
   "pygments_lexer": "ipython3",
   "version": "3.11.10"
  }
 },
 "nbformat": 4,
 "nbformat_minor": 2
}
